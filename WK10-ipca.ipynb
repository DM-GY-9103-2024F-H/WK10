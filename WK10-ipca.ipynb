{
 "cells": [
  {
   "cell_type": "markdown",
   "metadata": {},
   "source": [
    "# Inverse PCA"
   ]
  },
  {
   "cell_type": "code",
   "execution_count": null,
   "metadata": {},
   "outputs": [],
   "source": [
    "!wget -q https://github.com/DM-GY-9103-2024F-H/9103-utils/raw/main/src/data_utils.py\n",
    "!wget -q https://github.com/DM-GY-9103-2024F-H/9103-utils/raw/main/src/image_utils.py\n",
    "\n",
    "!wget -qO- https://github.com/DM-GY-9103-2024F-H/9103-utils/releases/latest/download/att-faces.tar.gz | tar xz\n",
    "!wget -qO- https://github.com/DM-GY-9103-2024F-H/9103-utils/releases/latest/download/metfaces.tar.gz | tar xz"
   ]
  },
  {
   "cell_type": "code",
   "execution_count": null,
   "metadata": {},
   "outputs": [],
   "source": [
    "import matplotlib.pyplot as plt\n",
    "import pandas as pd\n",
    "\n",
    "from numpy.random import normal as np_normal, randint\n",
    "from os import listdir, path\n",
    "from PIL import Image as PImage\n",
    "\n",
    "from data_utils import PCA, StandardScaler\n",
    "from image_utils import make_image, open_image"
   ]
  },
  {
   "cell_type": "markdown",
   "metadata": {},
   "source": [
    "## Load Dataset"
   ]
  },
  {
   "cell_type": "code",
   "execution_count": null,
   "metadata": {},
   "outputs": [],
   "source": [
    "img_width = 92\n",
    "\n",
    "# lists for keeping track of image pixel lists, subject numeric id and subject label\n",
    "face_pixels = []\n",
    "\n",
    "# 40 directories\n",
    "for l in range(1, 41):\n",
    "  # 10 images per directory\n",
    "  for i in range(1, 11):\n",
    "    mimg = open_image(f\"./data/image/att-faces/s{l}/{i}.pgm\")\n",
    "    face_pixels.append(mimg.pixels)"
   ]
  },
  {
   "cell_type": "markdown",
   "metadata": {},
   "source": [
    "## Start Processing"
   ]
  },
  {
   "cell_type": "code",
   "execution_count": null,
   "metadata": {},
   "outputs": [],
   "source": [
    "# display first image\n",
    "display(make_image(face_pixels[0], width=img_width))"
   ]
  },
  {
   "cell_type": "code",
   "execution_count": null,
   "metadata": {},
   "outputs": [],
   "source": [
    "# run pca and get first 256 PCs\n",
    "pca = PCA(n_components=256)\n",
    "faces_df = pca.fit_transform(face_pixels)\n",
    "\n",
    "print(pca.explained_variance())"
   ]
  },
  {
   "cell_type": "code",
   "execution_count": null,
   "metadata": {},
   "outputs": [],
   "source": [
    "# Reconstruction: un-projects the data from PCA space into pixel space\n",
    "pca_pixels = pca.inverse_transform(faces_df)\n",
    "\n",
    "for i in range(4):\n",
    "  idx = randint(0, len(face_pixels))\n",
    "  display(make_image(face_pixels[idx], width=img_width))\n",
    "  display(make_image(pca_pixels.loc[idx], width=img_width))"
   ]
  },
  {
   "cell_type": "markdown",
   "metadata": {},
   "source": [
    "### Common Factors\n",
    "\n",
    "These are the common faces extracted from the dataset.\n",
    "\n",
    "All reconstructions are built from linear combinations of these."
   ]
  },
  {
   "cell_type": "code",
   "execution_count": null,
   "metadata": {},
   "outputs": [],
   "source": [
    "for comp in pca.components_[:4]:\n",
    "  minVal = comp.min()\n",
    "  maxVal = comp.max()\n",
    "  # manually mapping to [0, 255]\n",
    "  pxs01 = 255 * (comp - minVal) / (maxVal - minVal)\n",
    "  display(make_image(pxs01, width=img_width))"
   ]
  },
  {
   "cell_type": "markdown",
   "metadata": {},
   "source": [
    "### Standardize the PC values\n",
    "\n",
    "This helps understand the distribution of the values and also pick sensible random values later."
   ]
  },
  {
   "cell_type": "code",
   "execution_count": null,
   "metadata": {},
   "outputs": [],
   "source": [
    "pca_scaler = StandardScaler()\n",
    "faces_pca_std_df = pca_scaler.fit_transform(faces_df)"
   ]
  },
  {
   "cell_type": "markdown",
   "metadata": {},
   "source": [
    "### Plot distribution of PCs\n",
    "\n",
    "Plot first 32 PCs for all faces and highlight the values for the first 4 faces."
   ]
  },
  {
   "cell_type": "code",
   "execution_count": null,
   "metadata": {},
   "outputs": [],
   "source": [
    "num_pcs = 32\n",
    "num_faces = 4\n",
    "cmap = plt.get_cmap(\"Set1\")\n",
    "\n",
    "plt.figure(figsize=(8,8))\n",
    "for i in range(0,num_pcs):\n",
    "  plt.scatter(faces_pca_std_df[f\"PC{i}\"], faces_pca_std_df.shape[0] * [i], alpha=0.25, color='#2280fa')\n",
    "\n",
    "\n",
    "for i in range(num_faces):\n",
    "  pcs = faces_pca_std_df.iloc[i].values[:num_pcs]\n",
    "  mcolor = cmap(i/num_faces)\n",
    "  plt.scatter(pcs, range(num_pcs), c=num_pcs*[mcolor])\n",
    "\n",
    "plt.show()"
   ]
  },
  {
   "cell_type": "markdown",
   "metadata": {},
   "source": [
    "### Most Average Face\n",
    "\n",
    "Set all PCs to their average value."
   ]
  },
  {
   "cell_type": "code",
   "execution_count": null,
   "metadata": {},
   "outputs": [],
   "source": [
    "rand_std_pcs = pd.DataFrame(np_normal(loc=0, scale=0, size=[1, pca.n_components_]), columns=faces_df.columns)\n",
    "rand_pcs = pca_scaler.inverse_transform(rand_std_pcs)\n",
    "rand_img = pca.inverse_transform(rand_pcs)\n",
    "\n",
    "display(make_image(rand_img.loc[0], width=img_width))"
   ]
  },
  {
   "cell_type": "markdown",
   "metadata": {},
   "source": [
    "### Random Face\n",
    "\n",
    "Pick $10$ sets of random PCs, based on the distribution of the dataset's PC values."
   ]
  },
  {
   "cell_type": "code",
   "execution_count": null,
   "metadata": {},
   "outputs": [],
   "source": [
    "num_ifaces = 4\n",
    "\n",
    "rand_std_pcs = pd.DataFrame(np_normal(size=[num_ifaces, pca.n_components_], scale=0.666), columns=faces_df.columns)\n",
    "rand_pcs = pca_scaler.inverse_transform(rand_std_pcs)\n",
    "rand_img = pca.inverse_transform(rand_pcs)\n",
    "\n",
    "for i in range(num_ifaces):\n",
    "  display(make_image(rand_img.loc[i], width=img_width))"
   ]
  },
  {
   "cell_type": "markdown",
   "metadata": {},
   "source": [
    "## Bonus Dataset\n",
    "\n",
    "Run this cell and then repeat the process starting from the _Start Processing_ cell above."
   ]
  },
  {
   "cell_type": "code",
   "execution_count": null,
   "metadata": {},
   "outputs": [],
   "source": [
    "img_width = 256\n",
    "MET_PATH = f\"./data/image/metfaces/{img_width}\"\n",
    "\n",
    "face_pixels = []\n",
    "\n",
    "for f in sorted([f for f in listdir(MET_PATH) if f.endswith(\".jpg\")]):\n",
    "  mimg = PImage.open(path.join(MET_PATH, f)).convert(\"L\")\n",
    "  face_pixels.append(list(mimg.getdata()))"
   ]
  }
 ],
 "metadata": {
  "kernelspec": {
   "display_name": "9103",
   "language": "python",
   "name": "python3"
  },
  "language_info": {
   "codemirror_mode": {
    "name": "ipython",
    "version": 3
   },
   "file_extension": ".py",
   "mimetype": "text/x-python",
   "name": "python",
   "nbconvert_exporter": "python",
   "pygments_lexer": "ipython3",
   "version": "3.10.15"
  }
 },
 "nbformat": 4,
 "nbformat_minor": 2
}
